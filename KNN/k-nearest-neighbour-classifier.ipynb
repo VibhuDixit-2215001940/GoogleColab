{
 "cells": [
  {
   "cell_type": "markdown",
   "id": "38d245a7",
   "metadata": {
    "papermill": {
     "duration": 0.006499,
     "end_time": "2023-03-29T06:32:37.176803",
     "exception": false,
     "start_time": "2023-03-29T06:32:37.170304",
     "status": "completed"
    },
    "tags": []
   },
   "source": [
    "# <div style=\"text-align: center; background-color: black; color: white; padding: 14px; line-height: 1;border-radius:0px\">KNN Classifier on Mobile Price Classification</div>"
   ]
  },
  {
   "cell_type": "markdown",
   "id": "09b4ec46",
   "metadata": {
    "execution": {
     "iopub.execute_input": "2022-08-16T18:48:03.669013Z",
     "iopub.status.busy": "2022-08-16T18:48:03.668539Z",
     "iopub.status.idle": "2022-08-16T18:48:04.854741Z",
     "shell.execute_reply": "2022-08-16T18:48:04.853027Z",
     "shell.execute_reply.started": "2022-08-16T18:48:03.668966Z"
    },
    "papermill": {
     "duration": 0.00488,
     "end_time": "2023-03-29T06:32:37.187032",
     "exception": false,
     "start_time": "2023-03-29T06:32:37.182152",
     "status": "completed"
    },
    "tags": []
   },
   "source": [
    "![datascience](http://res.cloudinary.com/dyd911kmh/image/upload/f_auto,q_auto:best/v1531424181/K-Nearest_ledzue.png)"
   ]
  },
  {
   "cell_type": "markdown",
   "id": "3a7fe331",
   "metadata": {
    "execution": {
     "iopub.execute_input": "2022-08-16T18:48:42.658864Z",
     "iopub.status.busy": "2022-08-16T18:48:42.657973Z",
     "iopub.status.idle": "2022-08-16T18:48:42.665312Z",
     "shell.execute_reply": "2022-08-16T18:48:42.663737Z",
     "shell.execute_reply.started": "2022-08-16T18:48:42.658818Z"
    },
    "papermill": {
     "duration": 0.004838,
     "end_time": "2023-03-29T06:32:37.197016",
     "exception": false,
     "start_time": "2023-03-29T06:32:37.192178",
     "status": "completed"
    },
    "tags": []
   },
   "source": [
    "# <div style=\"text-align: center; background-color: black; color: white; padding: 14px; line-height: 1;border-radius:0px\">What is KNN Classifier?</div>"
   ]
  },
  {
   "cell_type": "markdown",
   "id": "cf7a9eac",
   "metadata": {
    "papermill": {
     "duration": 0.004921,
     "end_time": "2023-03-29T06:32:37.206959",
     "exception": false,
     "start_time": "2023-03-29T06:32:37.202038",
     "status": "completed"
    },
    "tags": []
   },
   "source": [
    "KNN is a non-parametric and lazy learning algorithm. Non-parametric means there is no assumption for underlying data distribution. In other words, the model structure determined from the dataset. This will be very helpful in practice where most of the real world datasets do not follow mathematical theoretical assumptions. Lazy algorithm means it does not need any training data points for model generation. All training data used in the testing phase. This makes training faster and testing phase slower and costlier. Costly testing phase means time and memory. In the worst case, KNN needs more time to scan all data points and scanning all data points will require more memory for storing training data.\n",
    "\n",
    "# How does the KNN algorithm work?\n",
    "\n",
    "In KNN, K is the number of nearest neighbors. The number of neighbors is the core deciding factor. K is generally an odd number if the number of classes is 2. When K=1, then the algorithm is known as the nearest neighbor algorithm. This is the simplest case. Suppose P1 is the point, for which label needs to predict. First, you find the one closest point to P1 and then the label of the nearest point assigned to P1.\n",
    "\n",
    "![knn](http://res.cloudinary.com/dyd911kmh/image/upload/f_auto,q_auto:best/v1531424125/Knn_k1_z96jba.png)\n",
    "\n",
    "Suppose P1 is the point, for which label needs to predict. First, you find the k closest point to P1 and then classify points by majority vote of its k neighbors. Each object votes for their class and the class with the most votes is taken as the prediction. For finding closest similar points, you find the distance between points using distance measures such as Euclidean distance, Hamming distance, Manhattan distance and Minkowski distance. KNN has the following basic steps:\n",
    "\n",
    "1. Calculate distance\n",
    "2. Find closest neighbors\n",
    "3. Vote for labels\n"
   ]
  },
  {
   "cell_type": "markdown",
   "id": "2f42f0e7",
   "metadata": {
    "papermill": {
     "duration": 0.004745,
     "end_time": "2023-03-29T06:32:37.216755",
     "exception": false,
     "start_time": "2023-03-29T06:32:37.212010",
     "status": "completed"
    },
    "tags": []
   },
   "source": [
    "# <div style=\"text-align: center; background-color: black; color: white; padding: 14px; line-height: 1;border-radius:0px\">Mobile Price Data Set</div>"
   ]
  },
  {
   "cell_type": "markdown",
   "id": "d58b6525",
   "metadata": {
    "papermill": {
     "duration": 0.00478,
     "end_time": "2023-03-29T06:32:37.226562",
     "exception": false,
     "start_time": "2023-03-29T06:32:37.221782",
     "status": "completed"
    },
    "tags": []
   },
   "source": [
    "# Columns in Mobile Price DataSet\n",
    "* battery_power: Total energy a battery can store in one time measured in mAh\n",
    "* blue: Has bluetooth or not\n",
    "* clock_speed: speed at which microprocessor executes instructions\n",
    "* dual_sim: Has dual sim support or not\n",
    "* fc: Front Camera mega pixels\n",
    "* four_g: Has 4G or not\n",
    "* int_memory: Internal Memory in Gigabytes\n",
    "* m_dep: Mobile Depth in cm\n",
    "* mobile_wt: Weight of mobile phone\n",
    "* n_cores: Number of cores of processor\n",
    "* pc: Primary Camera mega pixels\n",
    "* px_height: Pixel Resolution Height\n",
    "* px_width: Pixel Resolution Width\n",
    "* ram: Random Access Memory in Megabytes\n",
    "* sc_h: Screen Height of mobile in cm\n",
    "* sc_w: Screen Width of mobile in cm\n",
    "* talk_time: longest time that a single battery charge will last when you are\n",
    "* three_g: Has 3G or not\n",
    "* touch_screen: Has touch screen or not\n",
    "* wifi: Has wifi or not\n",
    "* price_range ( 4 value: 0=>3)"
   ]
  },
  {
   "cell_type": "code",
   "execution_count": 1,
   "id": "76a4ae57",
   "metadata": {
    "execution": {
     "iopub.execute_input": "2023-03-29T06:32:37.238808Z",
     "iopub.status.busy": "2023-03-29T06:32:37.238132Z",
     "iopub.status.idle": "2023-03-29T06:32:38.389801Z",
     "shell.execute_reply": "2023-03-29T06:32:38.388497Z"
    },
    "papermill": {
     "duration": 1.161334,
     "end_time": "2023-03-29T06:32:38.392940",
     "exception": false,
     "start_time": "2023-03-29T06:32:37.231606",
     "status": "completed"
    },
    "tags": []
   },
   "outputs": [
    {
     "name": "stdout",
     "output_type": "stream",
     "text": [
      "/kaggle/input/mobile-price-classification/train.csv\n",
      "/kaggle/input/mobile-price-classification/test.csv\n"
     ]
    }
   ],
   "source": [
    "#importing the required modules.\n",
    "\n",
    "import pandas as pd\n",
    "import numpy as np\n",
    "import seaborn as sns\n",
    "import matplotlib.pyplot as plt\n",
    "\n",
    "import os\n",
    "for dirname, _, filenames in os.walk('/kaggle/input'):\n",
    "    for filename in filenames:\n",
    "        print(os.path.join(dirname, filename))"
   ]
  },
  {
   "cell_type": "code",
   "execution_count": 2,
   "id": "4d093011",
   "metadata": {
    "execution": {
     "iopub.execute_input": "2023-03-29T06:32:38.407761Z",
     "iopub.status.busy": "2023-03-29T06:32:38.406657Z",
     "iopub.status.idle": "2023-03-29T06:32:38.435766Z",
     "shell.execute_reply": "2023-03-29T06:32:38.434523Z"
    },
    "papermill": {
     "duration": 0.038843,
     "end_time": "2023-03-29T06:32:38.438265",
     "exception": false,
     "start_time": "2023-03-29T06:32:38.399422",
     "status": "completed"
    },
    "tags": []
   },
   "outputs": [],
   "source": [
    "train = pd.read_csv('/kaggle/input/mobile-price-classification/train.csv')"
   ]
  },
  {
   "cell_type": "code",
   "execution_count": 3,
   "id": "42960786",
   "metadata": {
    "execution": {
     "iopub.execute_input": "2023-03-29T06:32:38.451659Z",
     "iopub.status.busy": "2023-03-29T06:32:38.450641Z",
     "iopub.status.idle": "2023-03-29T06:32:38.459994Z",
     "shell.execute_reply": "2023-03-29T06:32:38.458835Z"
    },
    "papermill": {
     "duration": 0.018231,
     "end_time": "2023-03-29T06:32:38.462242",
     "exception": false,
     "start_time": "2023-03-29T06:32:38.444011",
     "status": "completed"
    },
    "tags": []
   },
   "outputs": [
    {
     "data": {
      "text/plain": [
       "(2000, 21)"
      ]
     },
     "execution_count": 3,
     "metadata": {},
     "output_type": "execute_result"
    }
   ],
   "source": [
    "train.shape"
   ]
  },
  {
   "cell_type": "code",
   "execution_count": 4,
   "id": "b72ae9ec",
   "metadata": {
    "execution": {
     "iopub.execute_input": "2023-03-29T06:32:38.475050Z",
     "iopub.status.busy": "2023-03-29T06:32:38.474630Z",
     "iopub.status.idle": "2023-03-29T06:32:38.482099Z",
     "shell.execute_reply": "2023-03-29T06:32:38.480919Z"
    },
    "papermill": {
     "duration": 0.016647,
     "end_time": "2023-03-29T06:32:38.484424",
     "exception": false,
     "start_time": "2023-03-29T06:32:38.467777",
     "status": "completed"
    },
    "tags": []
   },
   "outputs": [
    {
     "data": {
      "text/plain": [
       "Index(['battery_power', 'blue', 'clock_speed', 'dual_sim', 'fc', 'four_g',\n",
       "       'int_memory', 'm_dep', 'mobile_wt', 'n_cores', 'pc', 'px_height',\n",
       "       'px_width', 'ram', 'sc_h', 'sc_w', 'talk_time', 'three_g',\n",
       "       'touch_screen', 'wifi', 'price_range'],\n",
       "      dtype='object')"
      ]
     },
     "execution_count": 4,
     "metadata": {},
     "output_type": "execute_result"
    }
   ],
   "source": [
    "train.columns"
   ]
  },
  {
   "cell_type": "code",
   "execution_count": 5,
   "id": "5c9dc3cc",
   "metadata": {
    "execution": {
     "iopub.execute_input": "2023-03-29T06:32:38.497345Z",
     "iopub.status.busy": "2023-03-29T06:32:38.496959Z",
     "iopub.status.idle": "2023-03-29T06:32:38.508693Z",
     "shell.execute_reply": "2023-03-29T06:32:38.507435Z"
    },
    "papermill": {
     "duration": 0.021241,
     "end_time": "2023-03-29T06:32:38.511233",
     "exception": false,
     "start_time": "2023-03-29T06:32:38.489992",
     "status": "completed"
    },
    "tags": []
   },
   "outputs": [
    {
     "data": {
      "text/plain": [
       "battery_power    0\n",
       "blue             0\n",
       "clock_speed      0\n",
       "dual_sim         0\n",
       "fc               0\n",
       "four_g           0\n",
       "int_memory       0\n",
       "m_dep            0\n",
       "mobile_wt        0\n",
       "n_cores          0\n",
       "pc               0\n",
       "px_height        0\n",
       "px_width         0\n",
       "ram              0\n",
       "sc_h             0\n",
       "sc_w             0\n",
       "talk_time        0\n",
       "three_g          0\n",
       "touch_screen     0\n",
       "wifi             0\n",
       "price_range      0\n",
       "dtype: int64"
      ]
     },
     "execution_count": 5,
     "metadata": {},
     "output_type": "execute_result"
    }
   ],
   "source": [
    "train.isnull().sum()"
   ]
  },
  {
   "cell_type": "code",
   "execution_count": 6,
   "id": "f0222456",
   "metadata": {
    "execution": {
     "iopub.execute_input": "2023-03-29T06:32:38.524347Z",
     "iopub.status.busy": "2023-03-29T06:32:38.523847Z",
     "iopub.status.idle": "2023-03-29T06:32:38.550784Z",
     "shell.execute_reply": "2023-03-29T06:32:38.549525Z"
    },
    "papermill": {
     "duration": 0.03634,
     "end_time": "2023-03-29T06:32:38.553278",
     "exception": false,
     "start_time": "2023-03-29T06:32:38.516938",
     "status": "completed"
    },
    "tags": []
   },
   "outputs": [
    {
     "name": "stdout",
     "output_type": "stream",
     "text": [
      "<class 'pandas.core.frame.DataFrame'>\n",
      "RangeIndex: 2000 entries, 0 to 1999\n",
      "Data columns (total 21 columns):\n",
      " #   Column         Non-Null Count  Dtype  \n",
      "---  ------         --------------  -----  \n",
      " 0   battery_power  2000 non-null   int64  \n",
      " 1   blue           2000 non-null   int64  \n",
      " 2   clock_speed    2000 non-null   float64\n",
      " 3   dual_sim       2000 non-null   int64  \n",
      " 4   fc             2000 non-null   int64  \n",
      " 5   four_g         2000 non-null   int64  \n",
      " 6   int_memory     2000 non-null   int64  \n",
      " 7   m_dep          2000 non-null   float64\n",
      " 8   mobile_wt      2000 non-null   int64  \n",
      " 9   n_cores        2000 non-null   int64  \n",
      " 10  pc             2000 non-null   int64  \n",
      " 11  px_height      2000 non-null   int64  \n",
      " 12  px_width       2000 non-null   int64  \n",
      " 13  ram            2000 non-null   int64  \n",
      " 14  sc_h           2000 non-null   int64  \n",
      " 15  sc_w           2000 non-null   int64  \n",
      " 16  talk_time      2000 non-null   int64  \n",
      " 17  three_g        2000 non-null   int64  \n",
      " 18  touch_screen   2000 non-null   int64  \n",
      " 19  wifi           2000 non-null   int64  \n",
      " 20  price_range    2000 non-null   int64  \n",
      "dtypes: float64(2), int64(19)\n",
      "memory usage: 328.2 KB\n"
     ]
    }
   ],
   "source": [
    "train.info()"
   ]
  },
  {
   "cell_type": "code",
   "execution_count": 7,
   "id": "20a02aa0",
   "metadata": {
    "execution": {
     "iopub.execute_input": "2023-03-29T06:32:38.567079Z",
     "iopub.status.busy": "2023-03-29T06:32:38.566665Z",
     "iopub.status.idle": "2023-03-29T06:32:38.647999Z",
     "shell.execute_reply": "2023-03-29T06:32:38.646983Z"
    },
    "papermill": {
     "duration": 0.090967,
     "end_time": "2023-03-29T06:32:38.650430",
     "exception": false,
     "start_time": "2023-03-29T06:32:38.559463",
     "status": "completed"
    },
    "tags": []
   },
   "outputs": [
    {
     "data": {
      "text/html": [
       "<div>\n",
       "<style scoped>\n",
       "    .dataframe tbody tr th:only-of-type {\n",
       "        vertical-align: middle;\n",
       "    }\n",
       "\n",
       "    .dataframe tbody tr th {\n",
       "        vertical-align: top;\n",
       "    }\n",
       "\n",
       "    .dataframe thead th {\n",
       "        text-align: right;\n",
       "    }\n",
       "</style>\n",
       "<table border=\"1\" class=\"dataframe\">\n",
       "  <thead>\n",
       "    <tr style=\"text-align: right;\">\n",
       "      <th></th>\n",
       "      <th>battery_power</th>\n",
       "      <th>blue</th>\n",
       "      <th>clock_speed</th>\n",
       "      <th>dual_sim</th>\n",
       "      <th>fc</th>\n",
       "      <th>four_g</th>\n",
       "      <th>int_memory</th>\n",
       "      <th>m_dep</th>\n",
       "      <th>mobile_wt</th>\n",
       "      <th>n_cores</th>\n",
       "      <th>...</th>\n",
       "      <th>px_height</th>\n",
       "      <th>px_width</th>\n",
       "      <th>ram</th>\n",
       "      <th>sc_h</th>\n",
       "      <th>sc_w</th>\n",
       "      <th>talk_time</th>\n",
       "      <th>three_g</th>\n",
       "      <th>touch_screen</th>\n",
       "      <th>wifi</th>\n",
       "      <th>price_range</th>\n",
       "    </tr>\n",
       "  </thead>\n",
       "  <tbody>\n",
       "    <tr>\n",
       "      <th>count</th>\n",
       "      <td>2000.000000</td>\n",
       "      <td>2000.0000</td>\n",
       "      <td>2000.000000</td>\n",
       "      <td>2000.000000</td>\n",
       "      <td>2000.000000</td>\n",
       "      <td>2000.000000</td>\n",
       "      <td>2000.000000</td>\n",
       "      <td>2000.000000</td>\n",
       "      <td>2000.000000</td>\n",
       "      <td>2000.000000</td>\n",
       "      <td>...</td>\n",
       "      <td>2000.000000</td>\n",
       "      <td>2000.000000</td>\n",
       "      <td>2000.000000</td>\n",
       "      <td>2000.000000</td>\n",
       "      <td>2000.000000</td>\n",
       "      <td>2000.000000</td>\n",
       "      <td>2000.000000</td>\n",
       "      <td>2000.000000</td>\n",
       "      <td>2000.000000</td>\n",
       "      <td>2000.000000</td>\n",
       "    </tr>\n",
       "    <tr>\n",
       "      <th>mean</th>\n",
       "      <td>1238.518500</td>\n",
       "      <td>0.4950</td>\n",
       "      <td>1.522250</td>\n",
       "      <td>0.509500</td>\n",
       "      <td>4.309500</td>\n",
       "      <td>0.521500</td>\n",
       "      <td>32.046500</td>\n",
       "      <td>0.501750</td>\n",
       "      <td>140.249000</td>\n",
       "      <td>4.520500</td>\n",
       "      <td>...</td>\n",
       "      <td>645.108000</td>\n",
       "      <td>1251.515500</td>\n",
       "      <td>2124.213000</td>\n",
       "      <td>12.306500</td>\n",
       "      <td>5.767000</td>\n",
       "      <td>11.011000</td>\n",
       "      <td>0.761500</td>\n",
       "      <td>0.503000</td>\n",
       "      <td>0.507000</td>\n",
       "      <td>1.500000</td>\n",
       "    </tr>\n",
       "    <tr>\n",
       "      <th>std</th>\n",
       "      <td>439.418206</td>\n",
       "      <td>0.5001</td>\n",
       "      <td>0.816004</td>\n",
       "      <td>0.500035</td>\n",
       "      <td>4.341444</td>\n",
       "      <td>0.499662</td>\n",
       "      <td>18.145715</td>\n",
       "      <td>0.288416</td>\n",
       "      <td>35.399655</td>\n",
       "      <td>2.287837</td>\n",
       "      <td>...</td>\n",
       "      <td>443.780811</td>\n",
       "      <td>432.199447</td>\n",
       "      <td>1084.732044</td>\n",
       "      <td>4.213245</td>\n",
       "      <td>4.356398</td>\n",
       "      <td>5.463955</td>\n",
       "      <td>0.426273</td>\n",
       "      <td>0.500116</td>\n",
       "      <td>0.500076</td>\n",
       "      <td>1.118314</td>\n",
       "    </tr>\n",
       "    <tr>\n",
       "      <th>min</th>\n",
       "      <td>501.000000</td>\n",
       "      <td>0.0000</td>\n",
       "      <td>0.500000</td>\n",
       "      <td>0.000000</td>\n",
       "      <td>0.000000</td>\n",
       "      <td>0.000000</td>\n",
       "      <td>2.000000</td>\n",
       "      <td>0.100000</td>\n",
       "      <td>80.000000</td>\n",
       "      <td>1.000000</td>\n",
       "      <td>...</td>\n",
       "      <td>0.000000</td>\n",
       "      <td>500.000000</td>\n",
       "      <td>256.000000</td>\n",
       "      <td>5.000000</td>\n",
       "      <td>0.000000</td>\n",
       "      <td>2.000000</td>\n",
       "      <td>0.000000</td>\n",
       "      <td>0.000000</td>\n",
       "      <td>0.000000</td>\n",
       "      <td>0.000000</td>\n",
       "    </tr>\n",
       "    <tr>\n",
       "      <th>25%</th>\n",
       "      <td>851.750000</td>\n",
       "      <td>0.0000</td>\n",
       "      <td>0.700000</td>\n",
       "      <td>0.000000</td>\n",
       "      <td>1.000000</td>\n",
       "      <td>0.000000</td>\n",
       "      <td>16.000000</td>\n",
       "      <td>0.200000</td>\n",
       "      <td>109.000000</td>\n",
       "      <td>3.000000</td>\n",
       "      <td>...</td>\n",
       "      <td>282.750000</td>\n",
       "      <td>874.750000</td>\n",
       "      <td>1207.500000</td>\n",
       "      <td>9.000000</td>\n",
       "      <td>2.000000</td>\n",
       "      <td>6.000000</td>\n",
       "      <td>1.000000</td>\n",
       "      <td>0.000000</td>\n",
       "      <td>0.000000</td>\n",
       "      <td>0.750000</td>\n",
       "    </tr>\n",
       "    <tr>\n",
       "      <th>50%</th>\n",
       "      <td>1226.000000</td>\n",
       "      <td>0.0000</td>\n",
       "      <td>1.500000</td>\n",
       "      <td>1.000000</td>\n",
       "      <td>3.000000</td>\n",
       "      <td>1.000000</td>\n",
       "      <td>32.000000</td>\n",
       "      <td>0.500000</td>\n",
       "      <td>141.000000</td>\n",
       "      <td>4.000000</td>\n",
       "      <td>...</td>\n",
       "      <td>564.000000</td>\n",
       "      <td>1247.000000</td>\n",
       "      <td>2146.500000</td>\n",
       "      <td>12.000000</td>\n",
       "      <td>5.000000</td>\n",
       "      <td>11.000000</td>\n",
       "      <td>1.000000</td>\n",
       "      <td>1.000000</td>\n",
       "      <td>1.000000</td>\n",
       "      <td>1.500000</td>\n",
       "    </tr>\n",
       "    <tr>\n",
       "      <th>75%</th>\n",
       "      <td>1615.250000</td>\n",
       "      <td>1.0000</td>\n",
       "      <td>2.200000</td>\n",
       "      <td>1.000000</td>\n",
       "      <td>7.000000</td>\n",
       "      <td>1.000000</td>\n",
       "      <td>48.000000</td>\n",
       "      <td>0.800000</td>\n",
       "      <td>170.000000</td>\n",
       "      <td>7.000000</td>\n",
       "      <td>...</td>\n",
       "      <td>947.250000</td>\n",
       "      <td>1633.000000</td>\n",
       "      <td>3064.500000</td>\n",
       "      <td>16.000000</td>\n",
       "      <td>9.000000</td>\n",
       "      <td>16.000000</td>\n",
       "      <td>1.000000</td>\n",
       "      <td>1.000000</td>\n",
       "      <td>1.000000</td>\n",
       "      <td>2.250000</td>\n",
       "    </tr>\n",
       "    <tr>\n",
       "      <th>max</th>\n",
       "      <td>1998.000000</td>\n",
       "      <td>1.0000</td>\n",
       "      <td>3.000000</td>\n",
       "      <td>1.000000</td>\n",
       "      <td>19.000000</td>\n",
       "      <td>1.000000</td>\n",
       "      <td>64.000000</td>\n",
       "      <td>1.000000</td>\n",
       "      <td>200.000000</td>\n",
       "      <td>8.000000</td>\n",
       "      <td>...</td>\n",
       "      <td>1960.000000</td>\n",
       "      <td>1998.000000</td>\n",
       "      <td>3998.000000</td>\n",
       "      <td>19.000000</td>\n",
       "      <td>18.000000</td>\n",
       "      <td>20.000000</td>\n",
       "      <td>1.000000</td>\n",
       "      <td>1.000000</td>\n",
       "      <td>1.000000</td>\n",
       "      <td>3.000000</td>\n",
       "    </tr>\n",
       "  </tbody>\n",
       "</table>\n",
       "<p>8 rows × 21 columns</p>\n",
       "</div>"
      ],
      "text/plain": [
       "       battery_power       blue  clock_speed     dual_sim           fc  \\\n",
       "count    2000.000000  2000.0000  2000.000000  2000.000000  2000.000000   \n",
       "mean     1238.518500     0.4950     1.522250     0.509500     4.309500   \n",
       "std       439.418206     0.5001     0.816004     0.500035     4.341444   \n",
       "min       501.000000     0.0000     0.500000     0.000000     0.000000   \n",
       "25%       851.750000     0.0000     0.700000     0.000000     1.000000   \n",
       "50%      1226.000000     0.0000     1.500000     1.000000     3.000000   \n",
       "75%      1615.250000     1.0000     2.200000     1.000000     7.000000   \n",
       "max      1998.000000     1.0000     3.000000     1.000000    19.000000   \n",
       "\n",
       "            four_g   int_memory        m_dep    mobile_wt      n_cores  ...  \\\n",
       "count  2000.000000  2000.000000  2000.000000  2000.000000  2000.000000  ...   \n",
       "mean      0.521500    32.046500     0.501750   140.249000     4.520500  ...   \n",
       "std       0.499662    18.145715     0.288416    35.399655     2.287837  ...   \n",
       "min       0.000000     2.000000     0.100000    80.000000     1.000000  ...   \n",
       "25%       0.000000    16.000000     0.200000   109.000000     3.000000  ...   \n",
       "50%       1.000000    32.000000     0.500000   141.000000     4.000000  ...   \n",
       "75%       1.000000    48.000000     0.800000   170.000000     7.000000  ...   \n",
       "max       1.000000    64.000000     1.000000   200.000000     8.000000  ...   \n",
       "\n",
       "         px_height     px_width          ram         sc_h         sc_w  \\\n",
       "count  2000.000000  2000.000000  2000.000000  2000.000000  2000.000000   \n",
       "mean    645.108000  1251.515500  2124.213000    12.306500     5.767000   \n",
       "std     443.780811   432.199447  1084.732044     4.213245     4.356398   \n",
       "min       0.000000   500.000000   256.000000     5.000000     0.000000   \n",
       "25%     282.750000   874.750000  1207.500000     9.000000     2.000000   \n",
       "50%     564.000000  1247.000000  2146.500000    12.000000     5.000000   \n",
       "75%     947.250000  1633.000000  3064.500000    16.000000     9.000000   \n",
       "max    1960.000000  1998.000000  3998.000000    19.000000    18.000000   \n",
       "\n",
       "         talk_time      three_g  touch_screen         wifi  price_range  \n",
       "count  2000.000000  2000.000000   2000.000000  2000.000000  2000.000000  \n",
       "mean     11.011000     0.761500      0.503000     0.507000     1.500000  \n",
       "std       5.463955     0.426273      0.500116     0.500076     1.118314  \n",
       "min       2.000000     0.000000      0.000000     0.000000     0.000000  \n",
       "25%       6.000000     1.000000      0.000000     0.000000     0.750000  \n",
       "50%      11.000000     1.000000      1.000000     1.000000     1.500000  \n",
       "75%      16.000000     1.000000      1.000000     1.000000     2.250000  \n",
       "max      20.000000     1.000000      1.000000     1.000000     3.000000  \n",
       "\n",
       "[8 rows x 21 columns]"
      ]
     },
     "execution_count": 7,
     "metadata": {},
     "output_type": "execute_result"
    }
   ],
   "source": [
    "train.describe()"
   ]
  },
  {
   "cell_type": "code",
   "execution_count": 8,
   "id": "96a34528",
   "metadata": {
    "execution": {
     "iopub.execute_input": "2023-03-29T06:32:38.665357Z",
     "iopub.status.busy": "2023-03-29T06:32:38.664418Z",
     "iopub.status.idle": "2023-03-29T06:32:38.673338Z",
     "shell.execute_reply": "2023-03-29T06:32:38.672163Z"
    },
    "papermill": {
     "duration": 0.018817,
     "end_time": "2023-03-29T06:32:38.675673",
     "exception": false,
     "start_time": "2023-03-29T06:32:38.656856",
     "status": "completed"
    },
    "tags": []
   },
   "outputs": [
    {
     "data": {
      "text/plain": [
       "4"
      ]
     },
     "execution_count": 8,
     "metadata": {},
     "output_type": "execute_result"
    }
   ],
   "source": [
    "train.price_range.nunique()"
   ]
  },
  {
   "cell_type": "code",
   "execution_count": 9,
   "id": "40eb2a75",
   "metadata": {
    "execution": {
     "iopub.execute_input": "2023-03-29T06:32:38.690060Z",
     "iopub.status.busy": "2023-03-29T06:32:38.689673Z",
     "iopub.status.idle": "2023-03-29T06:32:38.696773Z",
     "shell.execute_reply": "2023-03-29T06:32:38.695618Z"
    },
    "papermill": {
     "duration": 0.016989,
     "end_time": "2023-03-29T06:32:38.699119",
     "exception": false,
     "start_time": "2023-03-29T06:32:38.682130",
     "status": "completed"
    },
    "tags": []
   },
   "outputs": [
    {
     "data": {
      "text/plain": [
       "array([1, 2, 3, 0])"
      ]
     },
     "execution_count": 9,
     "metadata": {},
     "output_type": "execute_result"
    }
   ],
   "source": [
    "train.price_range.unique()"
   ]
  },
  {
   "cell_type": "code",
   "execution_count": 10,
   "id": "62ea46c2",
   "metadata": {
    "execution": {
     "iopub.execute_input": "2023-03-29T06:32:38.714362Z",
     "iopub.status.busy": "2023-03-29T06:32:38.713994Z",
     "iopub.status.idle": "2023-03-29T06:32:38.719816Z",
     "shell.execute_reply": "2023-03-29T06:32:38.718621Z"
    },
    "papermill": {
     "duration": 0.015788,
     "end_time": "2023-03-29T06:32:38.722035",
     "exception": false,
     "start_time": "2023-03-29T06:32:38.706247",
     "status": "completed"
    },
    "tags": []
   },
   "outputs": [],
   "source": [
    "X = train.drop('price_range',axis = 1)\n",
    "y = train['price_range']\n"
   ]
  },
  {
   "cell_type": "code",
   "execution_count": 11,
   "id": "7110a445",
   "metadata": {
    "execution": {
     "iopub.execute_input": "2023-03-29T06:32:38.737030Z",
     "iopub.status.busy": "2023-03-29T06:32:38.736630Z",
     "iopub.status.idle": "2023-03-29T06:32:38.941115Z",
     "shell.execute_reply": "2023-03-29T06:32:38.939789Z"
    },
    "papermill": {
     "duration": 0.21543,
     "end_time": "2023-03-29T06:32:38.943833",
     "exception": false,
     "start_time": "2023-03-29T06:32:38.728403",
     "status": "completed"
    },
    "tags": []
   },
   "outputs": [],
   "source": [
    "from sklearn.model_selection import train_test_split\n",
    "X_train, X_test, y_train, y_test = train_test_split(X, y, test_size=0.33, random_state=42)"
   ]
  },
  {
   "cell_type": "code",
   "execution_count": 12,
   "id": "6b7e4625",
   "metadata": {
    "execution": {
     "iopub.execute_input": "2023-03-29T06:32:38.959287Z",
     "iopub.status.busy": "2023-03-29T06:32:38.958771Z",
     "iopub.status.idle": "2023-03-29T06:32:39.163768Z",
     "shell.execute_reply": "2023-03-29T06:32:39.162437Z"
    },
    "papermill": {
     "duration": 0.216541,
     "end_time": "2023-03-29T06:32:39.167209",
     "exception": false,
     "start_time": "2023-03-29T06:32:38.950668",
     "status": "completed"
    },
    "tags": []
   },
   "outputs": [],
   "source": [
    "from sklearn.neighbors import KNeighborsClassifier\n",
    "\n",
    "model = KNeighborsClassifier()\n",
    "\n",
    "# Train the model using the training sets\n",
    "model.fit(X_train,y_train)\n",
    "\n",
    "#Predict Output\n",
    "predicted= model.predict(X_test)"
   ]
  },
  {
   "cell_type": "code",
   "execution_count": 13,
   "id": "1af014a7",
   "metadata": {
    "execution": {
     "iopub.execute_input": "2023-03-29T06:32:39.190794Z",
     "iopub.status.busy": "2023-03-29T06:32:39.190175Z",
     "iopub.status.idle": "2023-03-29T06:32:39.202144Z",
     "shell.execute_reply": "2023-03-29T06:32:39.200998Z"
    },
    "papermill": {
     "duration": 0.02752,
     "end_time": "2023-03-29T06:32:39.205621",
     "exception": false,
     "start_time": "2023-03-29T06:32:39.178101",
     "status": "completed"
    },
    "tags": []
   },
   "outputs": [
    {
     "data": {
      "text/plain": [
       "0.9212121212121213"
      ]
     },
     "execution_count": 13,
     "metadata": {},
     "output_type": "execute_result"
    }
   ],
   "source": [
    "from sklearn.metrics import accuracy_score\n",
    "\n",
    "accuracy = accuracy_score(y_test,predicted)\n",
    "accuracy"
   ]
  },
  {
   "cell_type": "code",
   "execution_count": 14,
   "id": "04fec12a",
   "metadata": {
    "execution": {
     "iopub.execute_input": "2023-03-29T06:32:39.227948Z",
     "iopub.status.busy": "2023-03-29T06:32:39.227521Z",
     "iopub.status.idle": "2023-03-29T06:32:39.233587Z",
     "shell.execute_reply": "2023-03-29T06:32:39.232390Z"
    },
    "papermill": {
     "duration": 0.021088,
     "end_time": "2023-03-29T06:32:39.237014",
     "exception": false,
     "start_time": "2023-03-29T06:32:39.215926",
     "status": "completed"
    },
    "tags": []
   },
   "outputs": [
    {
     "name": "stdout",
     "output_type": "stream",
     "text": [
      "This Model is 0.9212121212121213 Acccurate\n"
     ]
    }
   ],
   "source": [
    "print(f'This Model is {accuracy} Acccurate')"
   ]
  },
  {
   "cell_type": "markdown",
   "id": "e343fdbf",
   "metadata": {
    "papermill": {
     "duration": 0.006346,
     "end_time": "2023-03-29T06:32:39.250936",
     "exception": false,
     "start_time": "2023-03-29T06:32:39.244590",
     "status": "completed"
    },
    "tags": []
   },
   "source": [
    "## **THANKS FOR REVIEWING MY NOTEBOOK.**\n",
    "## **UPVOTED THIS NOTEBOOK TO MOTIVATE ME MORE ALSO CHECK SOME OF MY EDA NOTEBOOKS.**\n",
    "## **NOTEBOOK CREATED BY RIMMEL ASGHAR WITH ❤**"
   ]
  }
 ],
 "metadata": {
  "kernelspec": {
   "display_name": "Python 3",
   "language": "python",
   "name": "python3"
  },
  "language_info": {
   "codemirror_mode": {
    "name": "ipython",
    "version": 3
   },
   "file_extension": ".py",
   "mimetype": "text/x-python",
   "name": "python",
   "nbconvert_exporter": "python",
   "pygments_lexer": "ipython3",
   "version": "3.7.12"
  },
  "papermill": {
   "default_parameters": {},
   "duration": 12.438869,
   "end_time": "2023-03-29T06:32:39.978645",
   "environment_variables": {},
   "exception": null,
   "input_path": "__notebook__.ipynb",
   "output_path": "__notebook__.ipynb",
   "parameters": {},
   "start_time": "2023-03-29T06:32:27.539776",
   "version": "2.3.4"
  }
 },
 "nbformat": 4,
 "nbformat_minor": 5
}
