{
 "cells": [
  {
   "cell_type": "code",
   "execution_count": 10,
   "metadata": {},
   "outputs": [],
   "source": [
    "import pandas as pd\n",
    "import numpy as np\n",
    "import matplotlib.pyplot as plt\n",
    "import seaborn as sns\n",
    "%matplotlib inline\n",
    "\n",
    "import scipy.stats as stats # If want to run stat tests\n",
    "import pandas_profiling   # If want to come up with a pandas profiling report\n",
    "\n",
    "from matplotlib.backends.backend_pdf import PdfPages # Optional : If plan to export graphs as pdf\n",
    "\n",
    "from sklearn.cluster import KMeans # For running a K means algorithm\n",
    "from sklearn.metrics import silhouette_score # For finding the silhouette_score \n",
    "from sklearn.preprocessing import StandardScaler, MinMaxScaler # For Standardization\n",
    "from sklearn.decomposition import PCA   # For running PCA\n",
    "\n",
    "from sklearn import metrics"
   ]
  },
  {
   "cell_type": "code",
   "execution_count": 3,
   "metadata": {},
   "outputs": [],
   "source": [
    "telco = pd.read_csv(\"telco_csv.csv\")"
   ]
  },
  {
   "cell_type": "code",
   "execution_count": 4,
   "metadata": {},
   "outputs": [
    {
     "name": "stderr",
     "output_type": "stream",
     "text": [
      "C:\\Users\\Lenovo\\Anaconda3\\lib\\site-packages\\ipykernel_launcher.py:4: FutureWarning: clip_upper(threshold) is deprecated, use clip(upper=threshold) instead\n",
      "  after removing the cwd from sys.path.\n",
      "C:\\Users\\Lenovo\\Anaconda3\\lib\\site-packages\\ipykernel_launcher.py:5: FutureWarning: clip_lower(threshold) is deprecated, use clip(lower=threshold) instead\n",
      "  \"\"\"\n"
     ]
    }
   ],
   "source": [
    "#Handling Outliers\n",
    "\n",
    "def outlier_capping(x):\n",
    "    x = x.clip_upper(x.quantile(0.99))\n",
    "    x = x.clip_lower(x.quantile(0.01))\n",
    "    return x\n",
    "\n",
    "telco_new=telco.apply(lambda x: outlier_capping(x))"
   ]
  },
  {
   "cell_type": "code",
   "execution_count": 5,
   "metadata": {},
   "outputs": [],
   "source": [
    "telco_new = pd.get_dummies(telco_new, columns=['region'], drop_first=True, prefix='region')\n",
    "\n",
    "telco_new = pd.get_dummies(telco_new, columns=['custcat'], drop_first=True, prefix='cust_cat')"
   ]
  },
  {
   "cell_type": "code",
   "execution_count": 11,
   "metadata": {},
   "outputs": [],
   "source": [
    "# Initialize the StandardScaler model\n",
    "\n",
    "sc = StandardScaler()\n",
    "\n",
    "# Fit the model on the train dataset\n",
    "\n",
    "std_model = sc.fit(telco_new)\n",
    "\n",
    "# Perfrom Transformation using the model object\n",
    "\n",
    "telco_scaled = std_model.transform(telco_new)\n",
    "\n",
    "telco_scaled ## The output is not a DataFrame\n",
    "\n",
    "pd.DataFrame(telco_scaled).head(5) ## No columns names\n",
    "\n",
    "telco_scaled = pd.DataFrame(telco_scaled, columns=telco_new.columns)\n",
    "\n",
    "# Converting the Scaled output into a df and providing the column names"
   ]
  },
  {
   "cell_type": "code",
   "execution_count": 13,
   "metadata": {},
   "outputs": [
    {
     "data": {
      "text/plain": [
       "(1000, 33)"
      ]
     },
     "execution_count": 13,
     "metadata": {},
     "output_type": "execute_result"
    }
   ],
   "source": [
    "telco_scaled.shape"
   ]
  },
  {
   "cell_type": "code",
   "execution_count": 15,
   "metadata": {},
   "outputs": [],
   "source": [
    "pca_model = PCA(n_components=33)"
   ]
  },
  {
   "cell_type": "code",
   "execution_count": 16,
   "metadata": {},
   "outputs": [],
   "source": [
    "pca_model = pca_model.fit(telco_scaled)"
   ]
  },
  {
   "cell_type": "code",
   "execution_count": 17,
   "metadata": {},
   "outputs": [
    {
     "data": {
      "text/plain": [
       "array([7.37594377, 5.3818386 , 3.40079648, 1.84413613, 1.53395795,\n",
       "       1.24065502, 1.18417401, 1.07621638, 1.00474643, 0.88746091,\n",
       "       0.69579606, 0.64912595, 0.62999801, 0.59740224, 0.5328508 ,\n",
       "       0.49399359, 0.46546653, 0.45715771, 0.42521153, 0.4072122 ,\n",
       "       0.3723491 , 0.35726153, 0.33375878, 0.30301828, 0.26756922,\n",
       "       0.23446072, 0.21730833, 0.19970755, 0.18901051, 0.11533482,\n",
       "       0.0680384 , 0.06405373, 0.02702175])"
      ]
     },
     "execution_count": 17,
     "metadata": {},
     "output_type": "execute_result"
    }
   ],
   "source": [
    "# Amount of variance explained by each Principal Compoenet aka Eigen Value\n",
    "\n",
    "pca_model.explained_variance_"
   ]
  },
  {
   "cell_type": "code",
   "execution_count": 18,
   "metadata": {},
   "outputs": [
    {
     "data": {
      "text/plain": [
       "array([0.22328993, 0.38621287, 0.48916425, 0.54499128, 0.59142837,\n",
       "       0.62898638, 0.66483456, 0.69741456, 0.72783098, 0.75469684,\n",
       "       0.77576049, 0.7954113 , 0.81448306, 0.83256805, 0.8486989 ,\n",
       "       0.86365343, 0.87774437, 0.89158378, 0.9044561 , 0.91678352,\n",
       "       0.92805554, 0.93887082, 0.94897461, 0.9581478 , 0.96624785,\n",
       "       0.97334562, 0.97992413, 0.98596983, 0.99169169, 0.99518319,\n",
       "       0.9972429 , 0.99918198, 1.        ])"
      ]
     },
     "execution_count": 18,
     "metadata": {},
     "output_type": "execute_result"
    }
   ],
   "source": [
    "np.cumsum(pca_model.explained_variance_ratio_)"
   ]
  },
  {
   "cell_type": "markdown",
   "metadata": {},
   "source": [
    "- We consider the Principal Component = 10 to be the best value of PC"
   ]
  },
  {
   "cell_type": "code",
   "execution_count": 19,
   "metadata": {},
   "outputs": [],
   "source": [
    "pca_model = PCA(n_components=10) # initalize the model\n",
    "\n",
    "pca_model = pca_model.fit(telco_scaled) # fit the model"
   ]
  },
  {
   "cell_type": "code",
   "execution_count": 20,
   "metadata": {},
   "outputs": [
    {
     "data": {
      "text/plain": [
       "array([7.37594377, 5.3818386 , 3.40079648, 1.84413593, 1.53395013,\n",
       "       1.24060467, 1.18412156, 1.07617706, 1.0047033 , 0.88736921])"
      ]
     },
     "execution_count": 20,
     "metadata": {},
     "output_type": "execute_result"
    }
   ],
   "source": [
    "pca_model.explained_variance_"
   ]
  },
  {
   "cell_type": "code",
   "execution_count": 21,
   "metadata": {},
   "outputs": [
    {
     "data": {
      "text/plain": [
       "array([0.22328993, 0.38621287, 0.48916425, 0.54499127, 0.59142813,\n",
       "       0.62898462, 0.6648312 , 0.69741002, 0.72782513, 0.75468821])"
      ]
     },
     "execution_count": 21,
     "metadata": {},
     "output_type": "execute_result"
    }
   ],
   "source": [
    "np.cumsum(pca_model.explained_variance_ratio_)"
   ]
  },
  {
   "cell_type": "code",
   "execution_count": 22,
   "metadata": {},
   "outputs": [],
   "source": [
    "reduced_cr=pca_model.transform(telco_scaled)"
   ]
  },
  {
   "cell_type": "code",
   "execution_count": 24,
   "metadata": {},
   "outputs": [],
   "source": [
    "dimensions = pd.DataFrame(reduced_cr)"
   ]
  },
  {
   "cell_type": "code",
   "execution_count": 26,
   "metadata": {},
   "outputs": [],
   "source": [
    "dimensions.columns = ['PC1', 'PC2', 'PC3', 'PC4', 'PC5', 'PC6', 'PC7', 'PC8', 'PC9', 'PC10']"
   ]
  },
  {
   "cell_type": "code",
   "execution_count": 27,
   "metadata": {},
   "outputs": [
    {
     "data": {
      "text/html": [
       "<div>\n",
       "<style scoped>\n",
       "    .dataframe tbody tr th:only-of-type {\n",
       "        vertical-align: middle;\n",
       "    }\n",
       "\n",
       "    .dataframe tbody tr th {\n",
       "        vertical-align: top;\n",
       "    }\n",
       "\n",
       "    .dataframe thead th {\n",
       "        text-align: right;\n",
       "    }\n",
       "</style>\n",
       "<table border=\"1\" class=\"dataframe\">\n",
       "  <thead>\n",
       "    <tr style=\"text-align: right;\">\n",
       "      <th></th>\n",
       "      <th>PC1</th>\n",
       "      <th>PC2</th>\n",
       "      <th>PC3</th>\n",
       "      <th>PC4</th>\n",
       "      <th>PC5</th>\n",
       "      <th>PC6</th>\n",
       "      <th>PC7</th>\n",
       "      <th>PC8</th>\n",
       "      <th>PC9</th>\n",
       "      <th>PC10</th>\n",
       "    </tr>\n",
       "  </thead>\n",
       "  <tbody>\n",
       "    <tr>\n",
       "      <th>0</th>\n",
       "      <td>-2.266240</td>\n",
       "      <td>-0.088029</td>\n",
       "      <td>-0.980796</td>\n",
       "      <td>0.309196</td>\n",
       "      <td>1.511157</td>\n",
       "      <td>0.627602</td>\n",
       "      <td>0.391339</td>\n",
       "      <td>-0.950629</td>\n",
       "      <td>0.873658</td>\n",
       "      <td>-0.613191</td>\n",
       "    </tr>\n",
       "    <tr>\n",
       "      <th>1</th>\n",
       "      <td>3.456679</td>\n",
       "      <td>-0.773759</td>\n",
       "      <td>-2.418446</td>\n",
       "      <td>1.864013</td>\n",
       "      <td>-1.258068</td>\n",
       "      <td>2.196285</td>\n",
       "      <td>0.550412</td>\n",
       "      <td>-1.014846</td>\n",
       "      <td>0.558347</td>\n",
       "      <td>1.234956</td>\n",
       "    </tr>\n",
       "    <tr>\n",
       "      <th>2</th>\n",
       "      <td>0.306759</td>\n",
       "      <td>4.374563</td>\n",
       "      <td>0.098687</td>\n",
       "      <td>0.432320</td>\n",
       "      <td>-1.581057</td>\n",
       "      <td>0.655989</td>\n",
       "      <td>-0.407108</td>\n",
       "      <td>0.334168</td>\n",
       "      <td>-0.462745</td>\n",
       "      <td>-1.134717</td>\n",
       "    </tr>\n",
       "    <tr>\n",
       "      <th>3</th>\n",
       "      <td>-3.493635</td>\n",
       "      <td>-0.371592</td>\n",
       "      <td>-0.897152</td>\n",
       "      <td>-1.111257</td>\n",
       "      <td>1.541956</td>\n",
       "      <td>0.302072</td>\n",
       "      <td>0.676718</td>\n",
       "      <td>-0.303910</td>\n",
       "      <td>-1.324545</td>\n",
       "      <td>0.487135</td>\n",
       "    </tr>\n",
       "    <tr>\n",
       "      <th>4</th>\n",
       "      <td>-1.943231</td>\n",
       "      <td>0.746403</td>\n",
       "      <td>-2.963879</td>\n",
       "      <td>1.314854</td>\n",
       "      <td>1.620612</td>\n",
       "      <td>0.154930</td>\n",
       "      <td>-0.164593</td>\n",
       "      <td>0.665599</td>\n",
       "      <td>1.223219</td>\n",
       "      <td>-0.049443</td>\n",
       "    </tr>\n",
       "  </tbody>\n",
       "</table>\n",
       "</div>"
      ],
      "text/plain": [
       "        PC1       PC2       PC3       PC4       PC5       PC6       PC7  \\\n",
       "0 -2.266240 -0.088029 -0.980796  0.309196  1.511157  0.627602  0.391339   \n",
       "1  3.456679 -0.773759 -2.418446  1.864013 -1.258068  2.196285  0.550412   \n",
       "2  0.306759  4.374563  0.098687  0.432320 -1.581057  0.655989 -0.407108   \n",
       "3 -3.493635 -0.371592 -0.897152 -1.111257  1.541956  0.302072  0.676718   \n",
       "4 -1.943231  0.746403 -2.963879  1.314854  1.620612  0.154930 -0.164593   \n",
       "\n",
       "        PC8       PC9      PC10  \n",
       "0 -0.950629  0.873658 -0.613191  \n",
       "1 -1.014846  0.558347  1.234956  \n",
       "2  0.334168 -0.462745 -1.134717  \n",
       "3 -0.303910 -1.324545  0.487135  \n",
       "4  0.665599  1.223219 -0.049443  "
      ]
     },
     "execution_count": 27,
     "metadata": {},
     "output_type": "execute_result"
    }
   ],
   "source": [
    "dimensions.head()"
   ]
  },
  {
   "cell_type": "code",
   "execution_count": 29,
   "metadata": {},
   "outputs": [
    {
     "data": {
      "text/plain": [
       "array([[ 7.41177889e-02,  2.27728931e-01,  3.40386014e-01,\n",
       "         1.57078053e-01, -1.64624771e-02, -8.09487885e-02,\n",
       "        -1.75739394e-02, -6.99750260e-02, -3.28374832e-02,\n",
       "         4.87874529e-02],\n",
       "       [ 5.39364889e-02,  2.42568778e-01,  2.71948321e-01,\n",
       "        -2.13383013e-01,  2.70347535e-02,  1.89467997e-01,\n",
       "         9.37103849e-02,  1.70303358e-01,  1.69939908e-01,\n",
       "        -6.85586623e-02],\n",
       "       [ 2.66771542e-02,  6.52340084e-03,  2.86298758e-02,\n",
       "         5.87618394e-01, -5.88208323e-03,  2.71329614e-01,\n",
       "         4.83957808e-02,  2.33198902e-01,  1.74860161e-01,\n",
       "        -1.15897312e-01],\n",
       "       [ 4.28509565e-02,  2.18137424e-01,  2.71667871e-01,\n",
       "        -1.31408285e-01,  2.03200182e-02,  5.54454284e-02,\n",
       "         1.13651700e-01,  1.15987622e-01,  1.27601638e-01,\n",
       "        -7.82347893e-03],\n",
       "       [ 9.93549586e-02,  1.21553020e-01,  1.67837030e-01,\n",
       "        -1.36483840e-01,  1.69058035e-02,  4.70282885e-01,\n",
       "        -4.94211857e-01, -1.44604685e-01, -6.95176197e-03,\n",
       "        -7.55831669e-02],\n",
       "       [ 1.01865583e-01, -2.24692972e-01,  9.96861603e-02,\n",
       "        -3.13898932e-02, -3.83829609e-02, -2.65403886e-02,\n",
       "        -2.75175059e-01,  6.96505919e-02,  3.48885720e-02,\n",
       "         2.57409197e-02],\n",
       "       [ 6.73041030e-02,  2.61562204e-01,  2.33719903e-01,\n",
       "        -1.31043295e-01,  3.50095370e-02,  3.26468714e-01,\n",
       "        -1.43451371e-01,  6.41260129e-02,  4.30913848e-02,\n",
       "        -6.07225397e-02],\n",
       "       [ 1.11052487e-02,  1.36088678e-01,  1.12056704e-01,\n",
       "        -1.81764643e-01,  2.85215212e-02, -1.20205787e-01,\n",
       "         4.82748292e-01,  5.10396947e-01,  7.25456125e-02,\n",
       "         5.76822094e-02],\n",
       "       [-2.81178129e-03,  1.27158725e-03,  2.69651676e-02,\n",
       "         2.46024667e-03, -6.39517976e-02,  1.16599755e-01,\n",
       "        -3.44246789e-02,  3.67016465e-01, -8.82076220e-01,\n",
       "        -1.87578707e-01],\n",
       "       [ 1.77869085e-02, -5.67345762e-02, -7.16375818e-02,\n",
       "         5.99348345e-01,  9.43995439e-03,  2.37628614e-01,\n",
       "         3.74714735e-02,  1.83184339e-01,  8.53456490e-02,\n",
       "        -3.61140227e-02],\n",
       "       [ 2.57922442e-01,  1.18037110e-01, -1.68596756e-01,\n",
       "        -4.86168874e-03, -2.29657641e-02, -9.30081513e-02,\n",
       "        -1.00776480e-01,  9.95588350e-02,  1.32952460e-02,\n",
       "         1.59784393e-01],\n",
       "       [ 1.22055240e-01, -2.96335190e-01,  1.43139729e-01,\n",
       "        -6.28624505e-02,  2.17984746e-03, -1.32351145e-01,\n",
       "        -1.08899429e-01,  1.90007510e-01,  1.46314770e-01,\n",
       "        -3.36364133e-01],\n",
       "       [ 1.82166294e-01,  1.78859821e-01,  1.03463411e-01,\n",
       "         1.24206918e-01, -4.46037376e-02, -2.14899049e-01,\n",
       "         1.14623675e-01, -3.32786303e-01, -1.28343385e-01,\n",
       "        -3.54194914e-01],\n",
       "       [ 2.91863929e-01, -1.27530873e-01,  1.37734829e-02,\n",
       "        -3.13119809e-02,  4.98478505e-02,  6.54299572e-02,\n",
       "         1.16446671e-01, -6.38715660e-02, -6.27499299e-02,\n",
       "         8.61449439e-02],\n",
       "       [ 9.96908867e-02, -6.26438408e-02,  3.38491460e-01,\n",
       "         1.70379705e-01,  1.92375904e-02, -2.79228455e-01,\n",
       "        -2.02518718e-01,  7.46870299e-02, -7.95039144e-02,\n",
       "         4.10000677e-01],\n",
       "       [ 2.55963986e-01, -1.21668515e-01,  8.22564840e-03,\n",
       "        -1.54240996e-02, -2.86179359e-02,  8.75808288e-02,\n",
       "         8.67300655e-02, -8.10696318e-02, -7.90288455e-02,\n",
       "         6.70900615e-02],\n",
       "       [ 2.68588645e-01, -1.35377817e-01,  5.82512751e-03,\n",
       "        -1.83568710e-02,  4.83104045e-02,  1.66707238e-01,\n",
       "         1.40212693e-01, -1.20400551e-01, -2.30013662e-02,\n",
       "         1.77861608e-01],\n",
       "       [ 1.19168279e-01, -2.71989780e-01,  1.30174316e-01,\n",
       "        -3.49269594e-02, -6.60782227e-02, -5.88400649e-02,\n",
       "        -7.56242402e-02,  1.13562105e-01,  6.55270406e-02,\n",
       "        -1.79008483e-01],\n",
       "       [ 2.56565049e-01,  1.07803588e-01, -1.79165284e-01,\n",
       "        -3.52658131e-03,  2.80032875e-03, -5.35287358e-02,\n",
       "        -1.10530128e-01,  8.65077235e-02,  8.77032754e-04,\n",
       "        -3.80317241e-02],\n",
       "       [ 2.53417682e-01,  1.20403514e-01, -1.75846484e-01,\n",
       "         9.25180027e-03, -1.76541937e-02, -9.91760786e-02,\n",
       "        -1.01668834e-01,  8.95894167e-02,  3.36859575e-02,\n",
       "         6.71314039e-02],\n",
       "       [ 2.55089445e-01,  1.09274715e-01, -1.66227713e-01,\n",
       "         1.29465189e-02, -2.23460207e-02, -9.44047018e-02,\n",
       "        -7.21380523e-02,  6.51273042e-02,  6.58457676e-02,\n",
       "        -4.68639687e-02],\n",
       "       [ 2.49081100e-01,  1.21564257e-01, -1.41219373e-01,\n",
       "        -2.40111973e-02,  6.84854411e-03, -9.16260753e-02,\n",
       "        -9.98988251e-02,  8.09437272e-02, -1.26077238e-03,\n",
       "        -5.87944801e-03],\n",
       "       [ 7.06474078e-02,  2.14679936e-01,  3.08906220e-01,\n",
       "         1.41110769e-01, -2.60066362e-02, -1.07539165e-01,\n",
       "         4.18616562e-02,  7.54201598e-03,  9.94417923e-03,\n",
       "         6.37851063e-02],\n",
       "       [ 2.67445164e-01,  1.55569537e-01, -1.00029084e-01,\n",
       "         2.93063981e-02, -1.07660387e-02, -4.23583489e-02,\n",
       "        -5.39603307e-02,  8.54653662e-02, -1.33900533e-02,\n",
       "         2.17987581e-01],\n",
       "       [ 1.82490920e-01, -2.78333495e-01,  1.49232582e-01,\n",
       "        -5.05088230e-02,  2.49663745e-03, -1.10010142e-01,\n",
       "        -6.20814137e-02,  1.45505615e-01,  1.13140363e-01,\n",
       "        -2.91106959e-01],\n",
       "       [ 1.66519831e-01,  1.70503271e-01,  1.36072496e-01,\n",
       "         1.56810990e-01, -4.31834516e-02, -1.86758467e-01,\n",
       "         1.81773624e-01, -3.42412567e-01, -8.37285422e-02,\n",
       "        -3.65942474e-01],\n",
       "       [ 3.06773070e-01, -1.14699843e-01,  5.06252952e-02,\n",
       "        -1.76445020e-02,  3.89204288e-02,  9.92897703e-02,\n",
       "         1.36027362e-01, -6.99297560e-02, -7.21380000e-02,\n",
       "         1.21171074e-01],\n",
       "       [ 9.18396809e-02, -2.71979721e-01,  1.30388375e-01,\n",
       "        -1.02302939e-01, -2.34624504e-02, -3.77327159e-02,\n",
       "        -2.37403086e-02,  9.07076633e-02,  1.00577476e-01,\n",
       "        -1.16946821e-01],\n",
       "       [ 1.25405076e-03,  8.12282075e-03, -1.20125249e-02,\n",
       "        -1.71718388e-02,  6.99930258e-01, -3.57191412e-02,\n",
       "        -1.47708125e-02, -1.18508536e-02, -8.96382292e-02,\n",
       "        -3.97843328e-02],\n",
       "       [ 1.23403719e-03,  3.57470621e-03,  3.46453354e-03,\n",
       "        -6.51671065e-02, -6.93070152e-01,  6.45577746e-02,\n",
       "         4.70489150e-02, -2.01002525e-02, -8.63615418e-03,\n",
       "         6.72741994e-02],\n",
       "       [-1.31840728e-01, -8.90151605e-02,  3.27551225e-01,\n",
       "         1.50466285e-01, -5.89632376e-03, -2.76140791e-01,\n",
       "        -2.05840840e-01, -7.09691575e-03, -1.01139598e-01,\n",
       "         2.55027436e-01],\n",
       "       [ 4.03140248e-02,  2.79480353e-01, -2.21441940e-01,\n",
       "         1.57545727e-02, -3.31807334e-02, -2.53234072e-01,\n",
       "        -3.03118212e-01,  2.09835790e-01,  9.31961941e-02,\n",
       "        -1.64535417e-01],\n",
       "       [ 2.93213681e-01, -1.49372786e-01,  1.09983597e-02,\n",
       "        -3.72301482e-03,  2.64387902e-02,  1.64050701e-01,\n",
       "         2.04440021e-01, -9.70464327e-02, -4.65446050e-02,\n",
       "         1.29276170e-01]])"
      ]
     },
     "execution_count": 29,
     "metadata": {},
     "output_type": "execute_result"
    }
   ],
   "source": [
    "pca_model.components_.T"
   ]
  },
  {
   "cell_type": "code",
   "execution_count": 30,
   "metadata": {},
   "outputs": [
    {
     "data": {
      "text/plain": [
       "array([2.71586888, 2.31987901, 1.84412485, 1.35798967, 1.23852741,\n",
       "       1.11382435, 1.0881735 , 1.03738954, 1.00234889, 0.94200277])"
      ]
     },
     "execution_count": 30,
     "metadata": {},
     "output_type": "execute_result"
    }
   ],
   "source": [
    "np.sqrt(pca_model.explained_variance_)"
   ]
  },
  {
   "cell_type": "code",
   "execution_count": 31,
   "metadata": {},
   "outputs": [],
   "source": [
    "#variable reduction\n",
    "Loadings =  pd.DataFrame((pca_model.components_.T * np.sqrt(pca_model.explained_variance_)).T,columns=telco_new.columns).T"
   ]
  },
  {
   "cell_type": "code",
   "execution_count": 33,
   "metadata": {},
   "outputs": [],
   "source": [
    "Loadings.columns = ['PC1', 'PC2', 'PC3', 'PC4', 'PC5', 'PC6', 'PC7', 'PC8', 'PC9', 'PC10']"
   ]
  },
  {
   "cell_type": "code",
   "execution_count": 35,
   "metadata": {},
   "outputs": [
    {
     "data": {
      "text/html": [
       "<div>\n",
       "<style scoped>\n",
       "    .dataframe tbody tr th:only-of-type {\n",
       "        vertical-align: middle;\n",
       "    }\n",
       "\n",
       "    .dataframe tbody tr th {\n",
       "        vertical-align: top;\n",
       "    }\n",
       "\n",
       "    .dataframe thead th {\n",
       "        text-align: right;\n",
       "    }\n",
       "</style>\n",
       "<table border=\"1\" class=\"dataframe\">\n",
       "  <thead>\n",
       "    <tr style=\"text-align: right;\">\n",
       "      <th></th>\n",
       "      <th>PC1</th>\n",
       "      <th>PC2</th>\n",
       "      <th>PC3</th>\n",
       "      <th>PC4</th>\n",
       "      <th>PC5</th>\n",
       "      <th>PC6</th>\n",
       "      <th>PC7</th>\n",
       "      <th>PC8</th>\n",
       "      <th>PC9</th>\n",
       "      <th>PC10</th>\n",
       "    </tr>\n",
       "  </thead>\n",
       "  <tbody>\n",
       "    <tr>\n",
       "      <th>tenure</th>\n",
       "      <td>0.201294</td>\n",
       "      <td>0.528304</td>\n",
       "      <td>0.627714</td>\n",
       "      <td>0.213310</td>\n",
       "      <td>-0.020389</td>\n",
       "      <td>-0.090163</td>\n",
       "      <td>-0.019123</td>\n",
       "      <td>-0.072591</td>\n",
       "      <td>-0.032915</td>\n",
       "      <td>0.045958</td>\n",
       "    </tr>\n",
       "    <tr>\n",
       "      <th>age</th>\n",
       "      <td>0.146484</td>\n",
       "      <td>0.562730</td>\n",
       "      <td>0.501507</td>\n",
       "      <td>-0.289772</td>\n",
       "      <td>0.033483</td>\n",
       "      <td>0.211034</td>\n",
       "      <td>0.101973</td>\n",
       "      <td>0.176671</td>\n",
       "      <td>0.170339</td>\n",
       "      <td>-0.064582</td>\n",
       "    </tr>\n",
       "    <tr>\n",
       "      <th>marital</th>\n",
       "      <td>0.072452</td>\n",
       "      <td>0.015134</td>\n",
       "      <td>0.052797</td>\n",
       "      <td>0.797980</td>\n",
       "      <td>-0.007285</td>\n",
       "      <td>0.302214</td>\n",
       "      <td>0.052663</td>\n",
       "      <td>0.241918</td>\n",
       "      <td>0.175271</td>\n",
       "      <td>-0.109176</td>\n",
       "    </tr>\n",
       "    <tr>\n",
       "      <th>address</th>\n",
       "      <td>0.116378</td>\n",
       "      <td>0.506052</td>\n",
       "      <td>0.500989</td>\n",
       "      <td>-0.178451</td>\n",
       "      <td>0.025167</td>\n",
       "      <td>0.061756</td>\n",
       "      <td>0.123673</td>\n",
       "      <td>0.120324</td>\n",
       "      <td>0.127901</td>\n",
       "      <td>-0.007370</td>\n",
       "    </tr>\n",
       "    <tr>\n",
       "      <th>income</th>\n",
       "      <td>0.269835</td>\n",
       "      <td>0.281988</td>\n",
       "      <td>0.309512</td>\n",
       "      <td>-0.185344</td>\n",
       "      <td>0.020938</td>\n",
       "      <td>0.523813</td>\n",
       "      <td>-0.537788</td>\n",
       "      <td>-0.150011</td>\n",
       "      <td>-0.006968</td>\n",
       "      <td>-0.071200</td>\n",
       "    </tr>\n",
       "  </tbody>\n",
       "</table>\n",
       "</div>"
      ],
      "text/plain": [
       "              PC1       PC2       PC3       PC4       PC5       PC6       PC7  \\\n",
       "tenure   0.201294  0.528304  0.627714  0.213310 -0.020389 -0.090163 -0.019123   \n",
       "age      0.146484  0.562730  0.501507 -0.289772  0.033483  0.211034  0.101973   \n",
       "marital  0.072452  0.015134  0.052797  0.797980 -0.007285  0.302214  0.052663   \n",
       "address  0.116378  0.506052  0.500989 -0.178451  0.025167  0.061756  0.123673   \n",
       "income   0.269835  0.281988  0.309512 -0.185344  0.020938  0.523813 -0.537788   \n",
       "\n",
       "              PC8       PC9      PC10  \n",
       "tenure  -0.072591 -0.032915  0.045958  \n",
       "age      0.176671  0.170339 -0.064582  \n",
       "marital  0.241918  0.175271 -0.109176  \n",
       "address  0.120324  0.127901 -0.007370  \n",
       "income  -0.150011 -0.006968 -0.071200  "
      ]
     },
     "execution_count": 35,
     "metadata": {},
     "output_type": "execute_result"
    }
   ],
   "source": [
    "Loadings.head()"
   ]
  },
  {
   "cell_type": "code",
   "execution_count": 36,
   "metadata": {},
   "outputs": [],
   "source": [
    "Loadings.to_excel('Loadings.xlsx')"
   ]
  },
  {
   "cell_type": "code",
   "execution_count": null,
   "metadata": {},
   "outputs": [],
   "source": []
  }
 ],
 "metadata": {
  "kernelspec": {
   "display_name": "Python 3 (ipykernel)",
   "language": "python",
   "name": "python3"
  },
  "language_info": {
   "codemirror_mode": {
    "name": "ipython",
    "version": 3
   },
   "file_extension": ".py",
   "mimetype": "text/x-python",
   "name": "python",
   "nbconvert_exporter": "python",
   "pygments_lexer": "ipython3",
   "version": "3.12.4"
  }
 },
 "nbformat": 4,
 "nbformat_minor": 4
}
