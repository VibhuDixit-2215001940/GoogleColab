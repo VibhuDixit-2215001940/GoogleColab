{
  "nbformat": 4,
  "nbformat_minor": 0,
  "metadata": {
    "colab": {
      "private_outputs": true,
      "provenance": []
    },
    "kernelspec": {
      "name": "python3",
      "display_name": "Python 3"
    },
    "language_info": {
      "name": "python"
    }
  },
  "cells": [
    {
      "cell_type": "code",
      "execution_count": null,
      "metadata": {
        "id": "fXIcB2GJcFKK"
      },
      "outputs": [],
      "source": [
        "import pandas as pd\n",
        "import numpy as np\n",
        "import seaborn as sns\n",
        "import matplotlib.pyplot as plt"
      ]
    },
    {
      "cell_type": "code",
      "source": [
        "df = pd.read_csv(\"/content/Life Expectancy Data.csv\")"
      ],
      "metadata": {
        "id": "vx-NU_UGHyXK"
      },
      "execution_count": null,
      "outputs": []
    },
    {
      "cell_type": "code",
      "source": [
        "df.head()"
      ],
      "metadata": {
        "id": "J6FGdlTYH6gl"
      },
      "execution_count": null,
      "outputs": []
    },
    {
      "cell_type": "code",
      "source": [
        "df.tail()"
      ],
      "metadata": {
        "id": "XYkJFcTQH8bd"
      },
      "execution_count": null,
      "outputs": []
    },
    {
      "cell_type": "markdown",
      "source": [
        "## **Sanity Check of Data**"
      ],
      "metadata": {
        "id": "-KaWhescIHVJ"
      }
    },
    {
      "cell_type": "code",
      "source": [
        "df.shape"
      ],
      "metadata": {
        "id": "V-9iDHdIH_-5"
      },
      "execution_count": null,
      "outputs": []
    },
    {
      "cell_type": "code",
      "source": [
        "df.info()"
      ],
      "metadata": {
        "id": "Bda6u50DID5i"
      },
      "execution_count": null,
      "outputs": []
    },
    {
      "cell_type": "code",
      "source": [
        "df.isnull().sum()  # Missing values"
      ],
      "metadata": {
        "id": "L_Dxyk18IZkw"
      },
      "execution_count": null,
      "outputs": []
    },
    {
      "cell_type": "code",
      "source": [
        "df.isnull().sum()/df.shape[0]*100  # Percentage of missing values"
      ],
      "metadata": {
        "id": "RhNNUrmjIr9B"
      },
      "execution_count": null,
      "outputs": []
    },
    {
      "cell_type": "code",
      "source": [
        "df.duplicated().sum()  # Duplicate values"
      ],
      "metadata": {
        "id": "Bte57IdbJD3Q"
      },
      "execution_count": null,
      "outputs": []
    },
    {
      "cell_type": "code",
      "source": [
        "# Garbage Valules\n",
        "for i in df.select_dtypes(include='object').columns:\n",
        "  # print(i)\n",
        "  print(df[i].value_counts())\n",
        "  print(\"***\"*10)"
      ],
      "metadata": {
        "id": "BRq0N6gVJYuG"
      },
      "execution_count": null,
      "outputs": []
    },
    {
      "cell_type": "markdown",
      "source": [
        "## Exploratory Data Anylysis\n"
      ],
      "metadata": {
        "id": "hNnRhNXyKJqH"
      }
    },
    {
      "cell_type": "code",
      "source": [
        "df.describe().T"
      ],
      "metadata": {
        "id": "Nb9z82IyKP3t"
      },
      "execution_count": null,
      "outputs": []
    },
    {
      "cell_type": "code",
      "source": [
        "df.describe(include=\"object\")"
      ],
      "metadata": {
        "id": "lXwR-Ri-Kjg9"
      },
      "execution_count": null,
      "outputs": []
    },
    {
      "cell_type": "code",
      "source": [
        "import warnings\n",
        "warnings.filterwarnings(\"ignore\")\n",
        "for i in df.select_dtypes(include=\"number\").columns:\n",
        "  sns.histplot(data = df, x = i)\n",
        "  plt.show()"
      ],
      "metadata": {
        "id": "sFeDxtc-KrDq"
      },
      "execution_count": null,
      "outputs": []
    },
    {
      "cell_type": "code",
      "source": [
        "import warnings\n",
        "warnings.filterwarnings(\"ignore\")\n",
        "for i in df.select_dtypes(include=\"number\").columns:\n",
        "  sns.boxplot(data = df, x = i)\n",
        "  plt.show()"
      ],
      "metadata": {
        "id": "37Uox84ELQSG"
      },
      "execution_count": null,
      "outputs": []
    },
    {
      "cell_type": "code",
      "source": [
        "df.select_dtypes(include=\"number\").columns"
      ],
      "metadata": {
        "id": "_8VRUe5qLtuJ"
      },
      "execution_count": null,
      "outputs": []
    },
    {
      "cell_type": "code",
      "source": [
        "for i in ['Year', 'Adult Mortality', 'infant deaths',\n",
        "       'Alcohol', 'percentage expenditure', 'Hepatitis B', 'Measles ', ' BMI ',\n",
        "       'under-five deaths ', 'Polio', 'Total expenditure', 'Diphtheria ',\n",
        "       ' HIV/AIDS', 'GDP', 'Population', ' thinness  1-19 years',\n",
        "       ' thinness 5-9 years', 'Income composition of resources', 'Schooling']:\n",
        "       sns.scatterplot(data = df, x=i, y=\"Life expectancy \")\n",
        "       plt.show()"
      ],
      "metadata": {
        "id": "58FhQ-LfMCqP"
      },
      "execution_count": null,
      "outputs": []
    },
    {
      "cell_type": "code",
      "source": [
        "s = df.select_dtypes(include=\"number\").corr()"
      ],
      "metadata": {
        "id": "jdTc4dPXMSmC"
      },
      "execution_count": null,
      "outputs": []
    },
    {
      "cell_type": "code",
      "source": [
        "plt.figure(figsize = (15,15))\n",
        "sns.heatmap(s, annot=True )"
      ],
      "metadata": {
        "id": "Wa5TRHnmM4F7"
      },
      "execution_count": null,
      "outputs": []
    },
    {
      "cell_type": "markdown",
      "source": [
        "# Missing Value Treatement"
      ],
      "metadata": {
        "id": "TsEpc8uWNjBX"
      }
    },
    {
      "cell_type": "code",
      "source": [
        "df.isnull().sum()"
      ],
      "metadata": {
        "id": "ZYxN0G0KYivZ"
      },
      "execution_count": null,
      "outputs": []
    },
    {
      "cell_type": "code",
      "source": [
        "df.columns = df.columns.str.strip()\n"
      ],
      "metadata": {
        "id": "_Wpk96tJZxgI"
      },
      "execution_count": null,
      "outputs": []
    },
    {
      "cell_type": "code",
      "source": [
        "for i in [\"BMI\", \"Polio\", \"Income composition of resources\"]:\n",
        "  df[i].fillna(df[i].median(), inplace=True)\n"
      ],
      "metadata": {
        "id": "him_TZtzNm5h"
      },
      "execution_count": null,
      "outputs": []
    },
    {
      "cell_type": "code",
      "source": [
        "df.isnull().sum()"
      ],
      "metadata": {
        "id": "Xc_qgR2MYAlX"
      },
      "execution_count": null,
      "outputs": []
    },
    {
      "cell_type": "code",
      "source": [
        "from sklearn.impute import KNNImputer\n",
        "imputer = KNNImputer()"
      ],
      "metadata": {
        "id": "syVf3eWKaNFA"
      },
      "execution_count": null,
      "outputs": []
    },
    {
      "cell_type": "code",
      "source": [
        "for i in df.select_dtypes(include=\"number\").columns:\n",
        "  df[i] = imputer.fit_transform(df[[i]])"
      ],
      "metadata": {
        "id": "Lb4kWuqRa0A-"
      },
      "execution_count": null,
      "outputs": []
    },
    {
      "cell_type": "code",
      "source": [
        "df.isnull().sum()"
      ],
      "metadata": {
        "id": "ZpJqh-yxgTZ4"
      },
      "execution_count": null,
      "outputs": []
    },
    {
      "cell_type": "markdown",
      "source": [
        "# **Outlier** **Treatement**"
      ],
      "metadata": {
        "id": "2DPDQtARgZsw"
      }
    },
    {
      "cell_type": "code",
      "source": [
        "# IQR Method\n",
        "def wisker(col):\n",
        "  q1, q3 = np.percentile(col, [25, 75])\n",
        "  iqr = q3 - q1\n",
        "  lower_bound = q1 - (1.5 * iqr)\n",
        "  upper_bound = q3 + (1.5 * iqr)\n",
        "  return lower_bound, upper_bound"
      ],
      "metadata": {
        "id": "FkUFpImkgWOx"
      },
      "execution_count": null,
      "outputs": []
    },
    {
      "cell_type": "code",
      "source": [
        "wisker(df['GDP'])"
      ],
      "metadata": {
        "id": "WWxyi8JEhOFM"
      },
      "execution_count": null,
      "outputs": []
    },
    {
      "cell_type": "code",
      "source": [
        "for i in ['GDP', 'Total expenditure', 'thinness  1-19 years', 'thinness 5-9 years']:\n",
        "  lower_bound, upper_bound = wisker(df[i])\n",
        "  df[i] = np.where(df[i] > upper_bound, upper_bound, df[i])"
      ],
      "metadata": {
        "id": "Qwr14Akxhl_j"
      },
      "execution_count": null,
      "outputs": []
    },
    {
      "cell_type": "code",
      "source": [
        "for i in ['GDP', 'Total expenditure', 'thinness  1-19 years', 'thinness 5-9 years']:\n",
        "  sns.boxplot(df[i])\n",
        "  plt.show()\n"
      ],
      "metadata": {
        "id": "MmW-dUW_pf0M"
      },
      "execution_count": null,
      "outputs": []
    },
    {
      "cell_type": "markdown",
      "source": [
        "# Duplicate or Garbage Values\n"
      ],
      "metadata": {
        "id": "xMfEPMbbp9yf"
      }
    },
    {
      "cell_type": "code",
      "source": [
        "df.drop_duplicates()"
      ],
      "metadata": {
        "id": "IR0-kBAzpf3m"
      },
      "execution_count": null,
      "outputs": []
    },
    {
      "cell_type": "markdown",
      "source": [
        "# Encoding of Data\n"
      ],
      "metadata": {
        "id": "fuJHLknJqE2s"
      }
    },
    {
      "cell_type": "code",
      "source": [
        "dummy = pd.get_dummies(data=df, columns=[\"Country\", \"Status\"], drop_first = True) # one hot encoding"
      ],
      "metadata": {
        "id": "zNv49Z96qDiz"
      },
      "execution_count": null,
      "outputs": []
    },
    {
      "cell_type": "code",
      "source": [
        "dummy"
      ],
      "metadata": {
        "id": "vV3wX4lSydbH"
      },
      "execution_count": null,
      "outputs": []
    },
    {
      "cell_type": "code",
      "source": [],
      "metadata": {
        "id": "ilOfoZHDqhTP"
      },
      "execution_count": null,
      "outputs": []
    },
    {
      "cell_type": "code",
      "source": [
        "df.columns"
      ],
      "metadata": {
        "id": "feTw3TsOpGdL"
      },
      "execution_count": null,
      "outputs": []
    }
  ]
}